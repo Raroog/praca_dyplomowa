{
 "cells": [
  {
   "cell_type": "code",
   "execution_count": 4,
   "metadata": {},
   "outputs": [],
   "source": [
    "import requests\n",
    "from bs4 import BeautifulSoup\n",
    "import os"
   ]
  },
  {
   "cell_type": "code",
   "execution_count": 2,
   "metadata": {},
   "outputs": [],
   "source": [
    "url = \"https://github.com/649/APT38-DYEPACK\""
   ]
  },
  {
   "cell_type": "code",
   "execution_count": 5,
   "metadata": {},
   "outputs": [],
   "source": [
    "\n",
    "\n",
    "def scrape_images(webpage_url, save_dir):\n",
    "    try:\n",
    "        # Send a GET request to the webpage\n",
    "        response = requests.get(webpage_url)\n",
    "        response.raise_for_status()  # Check for HTTP issues\n",
    "\n",
    "        # Parse the HTML content\n",
    "        soup = BeautifulSoup(response.text, 'html.parser')\n",
    "\n",
    "        # Find all image tags\n",
    "        img_tags = soup.find_all('img')\n",
    "        \n",
    "        if not os.path.exists(save_dir):\n",
    "            os.makedirs(save_dir)  # Create directory if not exists\n",
    "        \n",
    "        for img_tag in img_tags:\n",
    "            img_url = img_tag.get('src')\n",
    "            if not img_url:\n",
    "                continue\n",
    "            \n",
    "            # Handle relative URLs\n",
    "            if not img_url.startswith(('http:', 'https:')):\n",
    "                img_url = requests.compat.urljoin(webpage_url, img_url)\n",
    "            \n",
    "            # Get the image filename\n",
    "            filename = os.path.join(save_dir, img_url.split('/')[-1])\n",
    "            \n",
    "            # Download the image\n",
    "            try:\n",
    "                response = requests.get(img_url, stream=True)\n",
    "                response.raise_for_status()\n",
    "                \n",
    "                with open(filename, 'wb') as file:\n",
    "                    for chunk in response.iter_content(1024):\n",
    "                        file.write(chunk)\n",
    "                \n",
    "                print(f\"Downloaded: {filename}\")\n",
    "            except requests.exceptions.RequestException as e:\n",
    "                print(f\"Failed to download {img_url}: {e}\")\n",
    "\n",
    "    except requests.exceptions.RequestException as e:\n",
    "        print(f\"Failed to scrape webpage: {e}\")\n",
    "\n",
    "\n"
   ]
  },
  {
   "cell_type": "code",
   "execution_count": 6,
   "metadata": {},
   "outputs": [
    {
     "name": "stdout",
     "output_type": "stream",
     "text": [
      "Downloaded: images/SWIFT_Interception.png\n",
      "Downloaded: images/Decompiled_Printer_detection.png\n",
      "Downloaded: images/Destroying_Transaction_Records.png\n",
      "Downloaded: images/Evasion.png\n",
      "Downloaded: images/Interesting_Strings.png\n",
      "Downloaded: images/Printer_detection.png\n",
      "Downloaded: images/SQL_Statements.png\n"
     ]
    }
   ],
   "source": [
    "# Example usage\n",
    "save_dir = \"images\"\n",
    "scrape_images(url, save_dir)"
   ]
  },
  {
   "cell_type": "code",
   "execution_count": null,
   "metadata": {},
   "outputs": [],
   "source": []
  }
 ],
 "metadata": {
  "kernelspec": {
   "display_name": "pd_venv",
   "language": "python",
   "name": "python3"
  },
  "language_info": {
   "codemirror_mode": {
    "name": "ipython",
    "version": 3
   },
   "file_extension": ".py",
   "mimetype": "text/x-python",
   "name": "python",
   "nbconvert_exporter": "python",
   "pygments_lexer": "ipython3",
   "version": "3.12.7"
  }
 },
 "nbformat": 4,
 "nbformat_minor": 2
}
