{
 "cells": [
  {
   "cell_type": "code",
   "execution_count": null,
   "metadata": {},
   "outputs": [],
   "source": [
    "from google.cloud import api_keys_v2\n",
    "from google.cloud.api_keys_v2 import Key\n",
    "from google.cloud import vision"
   ]
  },
  {
   "cell_type": "code",
   "execution_count": null,
   "metadata": {},
   "outputs": [],
   "source": [
    "def create_api_key(project_id: str, suffix: str) -> Key:\n",
    "    \"\"\"\n",
    "    Creates and restrict an API key. Add the suffix for uniqueness.\n",
    "\n",
    "    TODO(Developer):\n",
    "    1. Before running this sample,\n",
    "      set up ADC as described in https://cloud.google.com/docs/authentication/external/set-up-adc\n",
    "    2. Make sure you have the necessary permission to create API keys.\n",
    "\n",
    "    Args:\n",
    "        project_id: Google Cloud project id.\n",
    "\n",
    "    Returns:\n",
    "        response: Returns the created API Key.\n",
    "    \"\"\"\n",
    "    # Create the API Keys client.\n",
    "    client = api_keys_v2.ApiKeysClient()\n",
    "\n",
    "    key = api_keys_v2.Key()\n",
    "    key.display_name = f\"My first API key - {suffix}\"\n",
    "\n",
    "    # Initialize request and set arguments.\n",
    "    request = api_keys_v2.CreateKeyRequest()\n",
    "    request.parent = f\"projects/{project_id}/locations/global\"\n",
    "    request.key = key\n",
    "\n",
    "    # Make the request and wait for the operation to complete.\n",
    "    response = client.create_key(request=request).result()\n",
    "\n",
    "    print(f\"Successfully created an API key: {response.name}\")\n",
    "    # For authenticating with the API key, use the value in \"response.key_string\".\n",
    "    # To restrict the usage of this API key, use the value in \"response.name\".\n",
    "    return response\n"
   ]
  },
  {
   "cell_type": "code",
   "execution_count": null,
   "metadata": {},
   "outputs": [],
   "source": [
    "client = vision.ImageAnnotatorClient()"
   ]
  },
  {
   "cell_type": "code",
   "execution_count": null,
   "metadata": {},
   "outputs": [],
   "source": [
    "pęg = \"/home/bartek/Kod/praca_dyplomowa/dane/SWIFT_Interception.png\"\n",
    "pęgdwa = \"/home/bartek/Kod/praca_dyplomowa/dane/image-8.png\"\n",
    "łepp = \"/home/bartek/Kod/praca_dyplomowa/dane/zh.webp\""
   ]
  },
  {
   "cell_type": "code",
   "execution_count": null,
   "metadata": {},
   "outputs": [],
   "source": [
    "with open(pęg, \"rb\") as image_file:\n",
    "        content = image_file.read()"
   ]
  },
  {
   "cell_type": "code",
   "execution_count": null,
   "metadata": {},
   "outputs": [],
   "source": [
    "image = vision.Image(content=content)"
   ]
  },
  {
   "cell_type": "code",
   "execution_count": null,
   "metadata": {},
   "outputs": [],
   "source": [
    "response = client.text_detection(image=image)\n",
    "texts = response.text_annotations\n",
    "print(\"Texts:\")"
   ]
  },
  {
   "cell_type": "code",
   "execution_count": null,
   "metadata": {},
   "outputs": [],
   "source": [
    "for text in texts[0].description.split(\"\\n\"):\n",
    "    print(text)"
   ]
  },
  {
   "cell_type": "code",
   "execution_count": null,
   "metadata": {},
   "outputs": [],
   "source": []
  }
 ],
 "metadata": {
  "kernelspec": {
   "display_name": "pd_venv",
   "language": "python",
   "name": "python3"
  },
  "language_info": {
   "codemirror_mode": {
    "name": "ipython",
    "version": 3
   },
   "file_extension": ".py",
   "mimetype": "text/x-python",
   "name": "python",
   "nbconvert_exporter": "python",
   "pygments_lexer": "ipython3",
   "version": "3.12.7"
  }
 },
 "nbformat": 4,
 "nbformat_minor": 2
}
