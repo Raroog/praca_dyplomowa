{
 "cells": [
  {
   "cell_type": "code",
   "execution_count": null,
   "metadata": {},
   "outputs": [],
   "source": [
    "import os\n",
    "import torch\n",
    "from torchvision.transforms import functional as TF\n"
   ]
  },
  {
   "cell_type": "code",
   "execution_count": 5,
   "metadata": {},
   "outputs": [],
   "source": [
    "# Set random seed for reproducibility\n",
    "torch.manual_seed(42)\n",
    "\n",
    "# Paths - modify these to match your directory structure\n",
    "train_dir = \"/home/bartek/Kod/PD/praca_dyplomowa/dane/resnet_dane/ready/train\"  # Contains 'code' and 'non_code' subfolders\n",
    "val_dir = \"/home/bartek/Kod/PD/praca_dyplomowa/dane/resnet_dane/ready/val\"      # Contains 'code' and 'non_code' subfolders\n",
    "output_dir = \"/home/bartek/Kod/PD/praca_dyplomowa/dane/resnet_dane/wyniki\"             # Where to save results\n",
    "augmented_train_dir = \"/home/bartek/Kod/PD/praca_dyplomowa/dane/resnet_dane/inverted/train\"  # Where to save the augmented training dataset\n",
    "augmented_val_dir = \"/home/bartek/Kod/PD/praca_dyplomowa/dane/resnet_dane/inverted/val\"      # Where to save the augmented validation dataset"
   ]
  },
  {
   "cell_type": "code",
   "execution_count": 9,
   "metadata": {},
   "outputs": [],
   "source": [
    "def invert_with_torchvision(image):\n",
    "    \"\"\"Invert using torchvision functional transforms\"\"\"\n",
    "    # Convert to tensor, invert, convert back to PIL\n",
    "    tensor = TF.to_tensor(image)\n",
    "    inverted_tensor = 1.0 - tensor\n",
    "    # Convert back to PIL Image\n",
    "    inverted_image = TF.to_pil_image(inverted_tensor)\n",
    "    return inverted_image"
   ]
  },
  {
   "cell_type": "code",
   "execution_count": 12,
   "metadata": {},
   "outputs": [],
   "source": [
    "code_dir = os.path.join(val_dir, 'code')\n",
    "for img_name in os.listdir(code_dir):\n",
    "    if img_name.lower().endswith(('.png', '.jpg', '.jpeg')):\n",
    "        src_path = os.path.join(code_dir, img_name)\n",
    "        # Create and save inverted image\n",
    "        image = Image.open(src_path).convert('RGB')\n",
    "        inverted_image = invert_with_torchvision(image)\n",
    "        inverted_path = os.path.join(augmented_val_dir, 'code', f\"inverted_{img_name}\")\n",
    "        inverted_image.save(inverted_path)"
   ]
  },
  {
   "cell_type": "code",
   "execution_count": null,
   "metadata": {},
   "outputs": [],
   "source": []
  }
 ],
 "metadata": {
  "kernelspec": {
   "display_name": "pd_env",
   "language": "python",
   "name": "python3"
  },
  "language_info": {
   "codemirror_mode": {
    "name": "ipython",
    "version": 3
   },
   "file_extension": ".py",
   "mimetype": "text/x-python",
   "name": "python",
   "nbconvert_exporter": "python",
   "pygments_lexer": "ipython3",
   "version": "3.12.3"
  }
 },
 "nbformat": 4,
 "nbformat_minor": 2
}
