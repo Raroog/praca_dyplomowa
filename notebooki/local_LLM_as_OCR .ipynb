{
 "cells": [
  {
   "cell_type": "code",
   "execution_count": 7,
   "metadata": {},
   "outputs": [],
   "source": [
    "from ollama import chat\n",
    "from ollama import ChatResponse\n",
    "import base64"
   ]
  },
  {
   "cell_type": "code",
   "execution_count": 2,
   "metadata": {},
   "outputs": [],
   "source": [
    "# Function to encode the image\n",
    "def encode_image(image_path):\n",
    "  with open(image_path, \"rb\") as image_file:\n",
    "    return base64.b64encode(image_file.read()).decode('utf-8')"
   ]
  },
  {
   "cell_type": "code",
   "execution_count": 5,
   "metadata": {},
   "outputs": [],
   "source": [
    "pęg = \"/home/bartek/Kod/PD/praca_dyplomowa/dane/SWIFT_Interception.png\"\n",
    "pęgdwa = \"/home/bartek/Kod/PD/praca_dyplomowa/dane/image-8.png\"\n",
    "łepp = \"/home/bartek/Kod/PD/praca_dyplomowa/dane/zh.webp\""
   ]
  },
  {
   "cell_type": "code",
   "execution_count": 8,
   "metadata": {},
   "outputs": [],
   "source": [
    "# Getting the base64 string \n",
    "base64_image = encode_image(pęgdwa)"
   ]
  },
  {
   "cell_type": "code",
   "execution_count": 14,
   "metadata": {},
   "outputs": [],
   "source": [
    "response: ChatResponse = chat(\n",
    "    model='llama3.2-vision',\n",
    "    messages=[\n",
    "        {\"role\": \"system\",\n",
    "         \"content\":\"You are a professional OCR that returns only the text that can be seen on the image. NOTHING MORE.\"},\n",
    "        {\n",
    "        'role': 'user',\n",
    "        'content': \"\"\"Please read the code in the provided image.\n",
    "                    Extract only the code content, with no extra explanation, comments, or additional text.\n",
    "                    Return only the exact code as it appears, line by line, without modification\"\"\",\n",
    "        'images': [pęg]\n",
    "    }]\n",
    ")"
   ]
  },
  {
   "cell_type": "code",
   "execution_count": 15,
   "metadata": {},
   "outputs": [
    {
     "name": "stdout",
     "output_type": "stream",
     "text": [
      "char a[8];\n",
      "char *b;\n",
      "char c = 'A';\n",
      "int d;\n",
      "unsigned int e;\n",
      "float f;\n",
      "double g;\n",
      "\n",
      "/* Comment */\n",
      "// Another comment\n",
      "12345.67; /* Yet another comment */\n",
      "\n",
      "The provided image shows a code snippet in C programming language. The code defines several variables of different data types, including character arrays, pointers, integers, unsigned integers, floating-point numbers, and double-precision floating-point numbers. It also includes comments in both the /* */ style and // style.\n"
     ]
    }
   ],
   "source": [
    "print(response.message.content)"
   ]
  },
  {
   "cell_type": "code",
   "execution_count": null,
   "metadata": {},
   "outputs": [],
   "source": []
  }
 ],
 "metadata": {
  "kernelspec": {
   "display_name": "pd_env",
   "language": "python",
   "name": "python3"
  },
  "language_info": {
   "codemirror_mode": {
    "name": "ipython",
    "version": 3
   },
   "file_extension": ".py",
   "mimetype": "text/x-python",
   "name": "python",
   "nbconvert_exporter": "python",
   "pygments_lexer": "ipython3",
   "version": "3.12.3"
  }
 },
 "nbformat": 4,
 "nbformat_minor": 2
}
