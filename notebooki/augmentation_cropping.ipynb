{
 "cells": [
  {
   "cell_type": "code",
   "execution_count": 20,
   "metadata": {},
   "outputs": [],
   "source": [
    "import random\n",
    "from PIL import Image\n",
    "from pathlib import Path\n",
    "import random\n",
    "import shutil"
   ]
  },
  {
   "cell_type": "code",
   "execution_count": 1,
   "metadata": {},
   "outputs": [],
   "source": [
    "def random_crop(image_path, output_path=None, min_percent=25, max_percent=50):\n",
    "    # Open the image\n",
    "    img = Image.open(image_path)\n",
    "    width, height = img.size\n",
    "    \n",
    "    # Calculate the crop percentage (between min_percent and max_percent)\n",
    "    crop_percent = random.uniform(min_percent/100, max_percent/100)\n",
    "    \n",
    "    # Calculate new dimensions\n",
    "    new_height = int(height * crop_percent)\n",
    "    \n",
    "    # Crop the image\n",
    "    cropped_img = img.crop((0, height - new_height, width, height))\n",
    "    return cropped_img"
   ]
  },
  {
   "cell_type": "code",
   "execution_count": 4,
   "metadata": {},
   "outputs": [],
   "source": [
    "train_code = Path(\"/home/bartek/Kod/PD/praca_dyplomowa/dane/resnet_dane/ready/train/code\")\n",
    "val_code = Path(\"/home/bartek/Kod/PD/praca_dyplomowa/dane/resnet_dane/ready/val/code\")"
   ]
  },
  {
   "cell_type": "code",
   "execution_count": 5,
   "metadata": {},
   "outputs": [],
   "source": [
    "tc_paths = list(train_code.glob(\"*\"))\n",
    "vc_paths = list(val_code.glob(\"*\"))"
   ]
  },
  {
   "cell_type": "code",
   "execution_count": 6,
   "metadata": {},
   "outputs": [],
   "source": [
    "all_paths = tc_paths + vc_paths"
   ]
  },
  {
   "cell_type": "code",
   "execution_count": 7,
   "metadata": {},
   "outputs": [],
   "source": [
    "cropped_path = Path(\"/home/bartek/Kod/PD/praca_dyplomowa/dane/resnet_dane/cropped\")"
   ]
  },
  {
   "cell_type": "code",
   "execution_count": 11,
   "metadata": {},
   "outputs": [],
   "source": [
    "for path in all_paths:\n",
    "    aug_img = random_crop(path)\n",
    "    aug_img_path = cropped_path / f\"cropped_{path.name}\"\n",
    "    aug_img.save(aug_img_path)"
   ]
  },
  {
   "cell_type": "code",
   "execution_count": 12,
   "metadata": {},
   "outputs": [],
   "source": [
    "ready = Path(\"/home/bartek/Kod/PD/praca_dyplomowa/dane/resnet_dane/cropped\")"
   ]
  },
  {
   "cell_type": "code",
   "execution_count": 13,
   "metadata": {},
   "outputs": [],
   "source": [
    "paths = list(ready.glob(\"*\"))"
   ]
  },
  {
   "cell_type": "code",
   "execution_count": null,
   "metadata": {},
   "outputs": [],
   "source": []
  },
  {
   "cell_type": "code",
   "execution_count": null,
   "metadata": {},
   "outputs": [],
   "source": [
    "indices = random.sample(range(0, len(paths)), 100)"
   ]
  },
  {
   "cell_type": "code",
   "execution_count": 22,
   "metadata": {},
   "outputs": [],
   "source": [
    "counter = 0\n",
    "for index in indices:\n",
    "    img_path = paths[index]\n",
    "    if counter < 80:\n",
    "        shutil.copy2(img_path, train_code / img_path.name)\n",
    "        counter+=1\n",
    "    else:\n",
    "        shutil.copy2(img_path, val_code / img_path.name)"
   ]
  },
  {
   "cell_type": "code",
   "execution_count": null,
   "metadata": {},
   "outputs": [],
   "source": []
  }
 ],
 "metadata": {
  "kernelspec": {
   "display_name": "pd_env",
   "language": "python",
   "name": "python3"
  },
  "language_info": {
   "codemirror_mode": {
    "name": "ipython",
    "version": 3
   },
   "file_extension": ".py",
   "mimetype": "text/x-python",
   "name": "python",
   "nbconvert_exporter": "python",
   "pygments_lexer": "ipython3",
   "version": "3.12.3"
  }
 },
 "nbformat": 4,
 "nbformat_minor": 2
}
