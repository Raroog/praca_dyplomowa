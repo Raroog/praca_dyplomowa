{
 "cells": [
  {
   "cell_type": "code",
   "execution_count": 1,
   "metadata": {},
   "outputs": [],
   "source": [
    "import bibtexparser"
   ]
  },
  {
   "cell_type": "code",
   "execution_count": 2,
   "metadata": {},
   "outputs": [],
   "source": [
    "path =  \"/home/bartek/Kod/praca_dyplomowa/dane/malpedia.bib.txt\""
   ]
  },
  {
   "cell_type": "code",
   "execution_count": 3,
   "metadata": {},
   "outputs": [],
   "source": [
    "with open(path, \"r\", encoding=\"utf-8\") as file:\n",
    "    content = file.read()"
   ]
  },
  {
   "cell_type": "code",
   "execution_count": 9,
   "metadata": {},
   "outputs": [],
   "source": [
    "library = bibtexparser.parse_string(content)"
   ]
  },
  {
   "cell_type": "code",
   "execution_count": 20,
   "metadata": {},
   "outputs": [
    {
     "data": {
      "text/plain": [
       "16025"
      ]
     },
     "execution_count": 20,
     "metadata": {},
     "output_type": "execute_result"
    }
   ],
   "source": [
    "len(library.entries)"
   ]
  },
  {
   "cell_type": "code",
   "execution_count": 19,
   "metadata": {},
   "outputs": [
    {
     "data": {
      "text/plain": [
       "'https://www.youtube.com/watch?v=Q90uZS3taG0'"
      ]
     },
     "execution_count": 19,
     "metadata": {},
     "output_type": "execute_result"
    }
   ],
   "source": [
    "library.entries[9999].fields[4].value"
   ]
  },
  {
   "cell_type": "code",
   "execution_count": 16,
   "metadata": {},
   "outputs": [
    {
     "name": "stdout",
     "output_type": "stream",
     "text": [
      "https://github.com/649/APT38-DYEPACK\n",
      "https://github.com/0day2/SapphireStealer/\n",
      "https://blueteamblog.com/microsoft-exchange-zero-days-mitigations-and-detections\n",
      "https://blueteamblog.com/darkside-ransomware-operations-preventions-and-detections\n",
      "https://0ffset.net/reverse-engineering/analyzing-com-mechanisms-in-malware/\n",
      "https://0ffset.net/reverse-engineering/malware-analysis/reversing-hancitor-again/\n",
      "https://0ffset.net/reverse-engineering/malware-analysis/analysing-isfb-loader/\n",
      "https://0ffset.net/reverse-engineering/malware-analysis/analyzing-isfb-second-loader/\n",
      "https://www.youtube.com/watch?v=N4f2e8Mygag\n",
      "https://0ffset.net/reverse-engineering/malware-analysis/analyzing-turlas-keylogger-2/\n",
      "https://0ffset.net/reverse-engineering/malware-analysis/analyzing-turlas-keylogger-1/\n",
      "https://zero2auto.com/2020/06/07/dealing-with-obfuscated-macros/\n",
      "English\n",
      "https://malwareindepth.com/shamoon-2012/\n",
      "https://malwareindepth.com/defeating-nanocore-and-cypherit/\n",
      "https://twitter.com/Myrtus0x0/status/1732997981866209550\n",
      "https://0x0d4y.blog/zero2automated-custom-sample/\n",
      "https://0x0d4y.blog/icedid-technical-analysis/\n",
      "https://0x0d4y.blog/icedid-technical-analysis-of-x64-dll-version/\n"
     ]
    }
   ],
   "source": [
    "counter = 0\n",
    "for entry in library.entries:\n",
    "    print(entry.fields[4].value)\n",
    "    counter += 1\n",
    "    if counter == 19:\n",
    "        break"
   ]
  },
  {
   "cell_type": "code",
   "execution_count": null,
   "metadata": {},
   "outputs": [],
   "source": []
  },
  {
   "cell_type": "code",
   "execution_count": null,
   "metadata": {},
   "outputs": [],
   "source": []
  }
 ],
 "metadata": {
  "kernelspec": {
   "display_name": "pd_venv",
   "language": "python",
   "name": "python3"
  },
  "language_info": {
   "codemirror_mode": {
    "name": "ipython",
    "version": 3
   },
   "file_extension": ".py",
   "mimetype": "text/x-python",
   "name": "python",
   "nbconvert_exporter": "python",
   "pygments_lexer": "ipython3",
   "version": "3.12.7"
  }
 },
 "nbformat": 4,
 "nbformat_minor": 2
}
