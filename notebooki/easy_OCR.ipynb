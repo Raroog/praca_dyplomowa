{
 "cells": [
  {
   "cell_type": "code",
   "execution_count": 1,
   "metadata": {},
   "outputs": [],
   "source": [
    "import easyocr"
   ]
  },
  {
   "cell_type": "code",
   "execution_count": 7,
   "metadata": {},
   "outputs": [],
   "source": [
    "pęg = \"/home/bartek/Kod/praca_dyplomowa/dane/SWIFT_Interception.png\"\n",
    "pęgdwa = \"/home/bartek/Kod/praca_dyplomowa/dane/image-8.png\"\n",
    "łepp = \"/home/bartek/Kod/praca_dyplomowa/dane/640.webp\""
   ]
  },
  {
   "cell_type": "code",
   "execution_count": 3,
   "metadata": {},
   "outputs": [
    {
     "name": "stderr",
     "output_type": "stream",
     "text": [
      "Neither CUDA nor MPS are available - defaulting to CPU. Note: This module is much faster with a GPU.\n",
      "Downloading detection model, please wait. This may take several minutes depending upon your network connection.\n"
     ]
    },
    {
     "name": "stdout",
     "output_type": "stream",
     "text": [
      "Progress: |██████████████████████████████████████████████████| 100.0% Complete"
     ]
    },
    {
     "name": "stderr",
     "output_type": "stream",
     "text": [
      "Downloading recognition model, please wait. This may take several minutes depending upon your network connection.\n"
     ]
    },
    {
     "name": "stdout",
     "output_type": "stream",
     "text": [
      "Progress: |██████████████████████████████████████████████████| 100.0% Complete"
     ]
    }
   ],
   "source": [
    "reader = easyocr.Reader(['ch_sim','en']) # this needs to run only once to load the model into memory"
   ]
  },
  {
   "cell_type": "code",
   "execution_count": 19,
   "metadata": {},
   "outputs": [],
   "source": [
    "pęg_result_pt = reader.readtext(pęg, detail=0, paragraph=True)"
   ]
  },
  {
   "cell_type": "code",
   "execution_count": null,
   "metadata": {},
   "outputs": [],
   "source": [
    "pęg_result_pf = reader.readtext(pęg, detail=0)"
   ]
  },
  {
   "cell_type": "code",
   "execution_count": 26,
   "metadata": {},
   "outputs": [],
   "source": [
    "pęgdwa_result = reader.readtext(pęgdwa, detail=0)"
   ]
  },
  {
   "cell_type": "code",
   "execution_count": 28,
   "metadata": {},
   "outputs": [],
   "source": [
    "łepp_result = reader.readtext(łepp, detail=0)"
   ]
  },
  {
   "cell_type": "code",
   "execution_count": 27,
   "metadata": {},
   "outputs": [
    {
     "data": {
      "text/plain": [
       "['~C32CT',\n",
       " '-',\n",
       " 'C1a3311=',\n",
       " 'C_314.uCU355Ua6',\n",
       " 'dBEE-11o1-9377-00aa003h7a11',\n",
       " '-T-',\n",
       " 'IEiylt=',\n",
       " '~EARTLI aE =',\n",
       " 'Comandln',\n",
       " 'Ta_E=',\n",
       " 'Shortcntn >',\n",
       " 'CEBRA Zame=\"Bntton\\'',\n",
       " 'Talues\"Bitmap',\n",
       " 'SOTT0TT7TT',\n",
       " 'CEZSLI',\n",
       " 'LaTIC',\n",
       " 'ILEII',\n",
       " 'Talue',\n",
       " 'EXe',\n",
       " 'cecompiIe',\n",
       " 'Iindows',\n",
       " 'ITenP',\n",
       " '子7828',\n",
       " 'c1H41出',\n",
       " '召召',\n",
       " 'Om',\n",
       " 'CEZRLI',\n",
       " '= TC',\n",
       " 'Item2',\n",
       " 'Talue=\"273',\n",
       " '「1,1\"〉',\n",
       " ' /OBJECI >',\n",
       " '~03J2CT',\n",
       " '1al',\n",
       " 'C1a3311=',\n",
       " 'CIsid:adb880a6_',\n",
       " 'dBEI-Ilar- 9377-00aa00367211\"',\n",
       " 'TTL-1t =',\n",
       " 'height=i>',\n",
       " '~EARTLI aE =',\n",
       " 'Comandln',\n",
       " 'Talue',\n",
       " 'Shortcntn >',\n",
       " 'CEZRLI',\n",
       " '=T C=577--OM',\n",
       " 'Talues\"Bitmap',\n",
       " '340TT0TT7TT',\n",
       " 'CEARZLI aE =',\n",
       " 'ICEII',\n",
       " 'Ta_E=',\n",
       " 'C: indons',\n",
       " 'TeNP',\n",
       " 'ImagingDevices',\n",
       " 'EXe',\n",
       " 'CEBRAI Tame=\"Item2',\n",
       " 'Ta_E=\"273,1',\n",
       " '/OBJECI>',\n",
       " 'SCRTET>',\n",
       " 'Click ()',\n",
       " 'TaI',\n",
       " 'Sta-t-nOW',\n",
       " 'Date () . getTimE ()',\n",
       " 'WhiIe ( LIUe)',\n",
       " 'i (IeW',\n",
       " 'Date',\n",
       " 'getTime () -StaTt>2OOC)',\n",
       " 'Dreak;',\n",
       " 'CZiCk ()',\n",
       " '!SCRIET>cig',\n",
       " '3-2=',\n",
       " 'ENG\" >',\n",
       " '11\"〉']"
      ]
     },
     "execution_count": 27,
     "metadata": {},
     "output_type": "execute_result"
    }
   ],
   "source": [
    "pęgdwa_result"
   ]
  },
  {
   "cell_type": "code",
   "execution_count": 29,
   "metadata": {},
   "outputs": [
    {
     "data": {
      "text/plain": [
       "['CSD-Layaltyapk',\n",
       " 'Key',\n",
       " 'Value',\n",
       " 'Comesetems2. gp',\n",
       " 'Type',\n",
       " 'X.509',\n",
       " 'Manifest',\n",
       " 'Version',\n",
       " 'Certificate',\n",
       " 'Serial Number 0*b920c135350',\n",
       " 'Bytecode',\n",
       " 'Subject',\n",
       " 'EMAILADDRESS',\n",
       " 'arshad alkaabigGogmail com CNzarshad a_OUsectorzOanonLdiwanea STnOn',\n",
       " 'Resources',\n",
       " 'Validity',\n",
       " 'From',\n",
       " 'Sat Aug 05 06:25:29 CST 2017',\n",
       " 'Tue Dec 20 06;25:29 CST 2044',\n",
       " 'Public Key',\n",
       " 'Type',\n",
       " 'RSA 1024 bits',\n",
       " 'FilterWyDe',\n",
       " 'Cntemtowalidate',\n",
       " 'Exponent',\n",
       " '65537',\n",
       " 'Modulus',\n",
       " '169545773372530051127862564256953100412447640224717503550856467621341788247804225',\n",
       " 'BytecodelHierarchy  8',\n",
       " 'Signature',\n",
       " 'Type',\n",
       " 'SHATWithRSA',\n",
       " 'android',\n",
       " 'OID',\n",
       " '.2.840.',\n",
       " '13549.1.1.5',\n",
       " 'HexData',\n",
       " '6D AE 03 10C3 Bg 49 Cg CB 17 GA E8 BADC 5C 24 0g 11 1C2802 E0 8g BF 22 DF F4 FF E5 ES 32 FDA1',\n",
       " 'JPs',\n",
       " 'Fingerprints',\n",
       " 'eton',\n",
       " 'MD-5',\n",
       " 'F5 28 1C83 7F 179C AG SC 7F C4 0D E3 GC DG SE',\n",
       " 'application',\n",
       " 'SHA-1',\n",
       " 'AA 93729476 7F4C89 10 TFE5E4 497073 E7 SF7C 37 BE',\n",
       " 'SHA-256',\n",
       " 'A5 81 2C 2F FE SE 2773E2 43 41F3 AO gC 06 Eg 52 OA FO BE 96 48 A1 FC 7F 4E30384336 2A20',\n",
       " '(打偎的Hurter',\n",
       " '2005?',\n",
       " 'Cso']"
      ]
     },
     "execution_count": 29,
     "metadata": {},
     "output_type": "execute_result"
    }
   ],
   "source": [
    "łepp_result"
   ]
  },
  {
   "cell_type": "code",
   "execution_count": null,
   "metadata": {},
   "outputs": [
    {
     "name": "stdout",
     "output_type": "stream",
     "text": [
      "Char 0.5355684757232666\n",
      "aCUaeLSSappdata [ ] 0.1001082895045343\n",
      "TAc: 0.07922230660915375\n",
      "{Uae-a 0.016971429824907805\n",
      "== 0.010176328565260842\n",
      "IPPData 0.14329920386819525\n",
      "ocal 0.2757788300514221\n",
      "三= 0.0008723642763256392\n",
      "ia 0.12857974166390612\n",
      "Char 0.5355684757232666\n",
      "auclministcator [14] 0.31577862597504525\n",
      "TzclIiist_ato_ 0.2854972323485794\n",
      "Teal 0.27728593349456787\n",
      "Char 0.5355684757232666\n",
      "a4I1ians [5] 0.2193237613220955\n",
      "TaIliansn 0.06725122004869201\n",
      "Teal 0.27728593349456787\n",
      "CHIR 0.36881279945373535\n",
      "SrCh [ ] 0.300034813423423\n",
      "' T 0.11914222112169284\n",
      "ITOI 0.22053319215774536\n",
      "USE 0.7738176888502256\n",
      "1[ 0.21079328170983128\n",
      "14 0.05100646225935885\n",
      "CHIR 0.3424968421459198\n",
      "StTZ [ ] 0.3072109575906481\n",
      "TaJ-n 0.21918723045623945\n",
      "14 0.05100646225935885\n",
      "CHIR 0.3424968421459198\n",
      "aOutgo [] 0.7028209137375958\n",
      "Outgo 0.7833176781257806\n",
      "ia 0.12857974166390612\n",
      "CHIR 0.3424968421459198\n",
      "aICOI [ ] 0.5652111661528871\n",
      "ICOIIT 0.15242649327877542\n",
      "ia 0.12857974166390612\n",
      "CHIR 0.3424968421459198\n",
      "a8C_4050P4 [] 0.4904483585153854\n",
      "14 0.05100646225935885\n",
      "Char 0.5355684757232666\n",
      "aSmiftIput [ ] 0.28356325337606486\n",
      "TSwift 0.2827035233201608\n",
      "InPutn; 0.2722992094737663\n",
      "ia 0.12857974166390612\n",
      "Char 0.5355684757232666\n",
      "Str [] 0.32855411621599706\n",
      "Smift 0.3534760031175679\n",
      "OutPut 0.3546774148659644\n",
      "ia 0.12857974166390612\n",
      "Char 0.5355684757232666\n",
      "a28CStatementlu [ ] 0.4716561228345925\n",
      "T23C: 0.2717988048613011\n",
      "Statelient 0.24738545898032518\n",
      "ITule_n; 0.07590313398838701\n",
      "14 0.05100646225935885\n",
      "Char 0.5355684757232666\n",
      "a8C 0.647353058426639\n",
      "405130[2] 0.8785662065310667\n",
      "Teal 0.27728593349456787\n",
      "Char 0.5355684757232666\n",
      "aDD[ ] 0.6578226321088678\n",
      "TT%41 0.07582413042608604\n",
      "%41-\"; 0.019002854926180805\n",
      "14 0.05100646225935885\n",
      "Char 0.5355684757232666\n",
      "aDDS [ ] 0.8173049714451908\n",
      "T%41 0.05627681687474251\n",
      "各41-:3\"; 0.0020417850473026947\n",
      "14 0.05100646225935885\n",
      "CHIR 0.36881279945373535\n",
      "aOutgoing [ ] 0.46987262978883204\n",
      "{Outgoingn 0.4246399271727438\n",
      "ia 0.12857974166390612\n",
      "CHIR 0.3424968421459198\n",
      "aInComing [ ] 0.3923515862018971\n",
      "InCoIingn 0.2572718878474214\n",
      "14 0.05100646225935885\n"
     ]
    }
   ],
   "source": [
    "for line in pęg_result:\n",
    "    print(line[1])"
   ]
  },
  {
   "cell_type": "code",
   "execution_count": 11,
   "metadata": {},
   "outputs": [
    {
     "data": {
      "text/plain": [
       "'Char'"
      ]
     },
     "execution_count": 11,
     "metadata": {},
     "output_type": "execute_result"
    }
   ],
   "source": [
    "pęg_result[0][1]"
   ]
  },
  {
   "cell_type": "code",
   "execution_count": 13,
   "metadata": {},
   "outputs": [
    {
     "data": {
      "text/plain": [
       "0.5355684757232666"
      ]
     },
     "execution_count": 13,
     "metadata": {},
     "output_type": "execute_result"
    }
   ],
   "source": [
    "float(pęg_result[0][2])"
   ]
  },
  {
   "cell_type": "code",
   "execution_count": null,
   "metadata": {},
   "outputs": [],
   "source": []
  }
 ],
 "metadata": {
  "kernelspec": {
   "display_name": "pd_venv",
   "language": "python",
   "name": "python3"
  },
  "language_info": {
   "codemirror_mode": {
    "name": "ipython",
    "version": 3
   },
   "file_extension": ".py",
   "mimetype": "text/x-python",
   "name": "python",
   "nbconvert_exporter": "python",
   "pygments_lexer": "ipython3",
   "version": "3.12.7"
  }
 },
 "nbformat": 4,
 "nbformat_minor": 2
}
