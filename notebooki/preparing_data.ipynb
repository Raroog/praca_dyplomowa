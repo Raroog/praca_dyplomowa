{
 "cells": [
  {
   "cell_type": "code",
   "execution_count": 20,
   "metadata": {},
   "outputs": [],
   "source": [
    "from pathlib import Path\n",
    "import shutil\n",
    "from sklearn.model_selection import train_test_split\n",
    "import torch\n",
    "from torchvision import transforms, datasets\n",
    "from torch.utils.data import DataLoader"
   ]
  },
  {
   "cell_type": "code",
   "execution_count": 38,
   "metadata": {},
   "outputs": [],
   "source": [
    "no_code_images_path = Path(\"/home/bartek/Kod/PD/praca_dyplomowa/dane/resnet_dane/raw/google_scraped/image-classification/images/images\")"
   ]
  },
  {
   "cell_type": "code",
   "execution_count": 49,
   "metadata": {},
   "outputs": [],
   "source": [
    "code_images_path = Path(\"/home/bartek/Kod/PD/praca_dyplomowa/dane/resnet_dane/raw/java_ss/java-code-screenshots/data\")"
   ]
  },
  {
   "cell_type": "code",
   "execution_count": 34,
   "metadata": {},
   "outputs": [
    {
     "data": {
      "text/plain": [
       "PosixPath('/home/bartek/Kod/PD/praca_dyplomowa/dane/resnet_dane/raw/google_scraped/image-classification/images/images/**/*')"
      ]
     },
     "execution_count": 34,
     "metadata": {},
     "output_type": "execute_result"
    }
   ],
   "source": [
    "no_code_images_path"
   ]
  },
  {
   "cell_type": "code",
   "execution_count": 42,
   "metadata": {},
   "outputs": [],
   "source": [
    "no_code_images = list(no_code_images_path.glob(\"**/*.jpg\"))"
   ]
  },
  {
   "cell_type": "code",
   "execution_count": 52,
   "metadata": {},
   "outputs": [],
   "source": [
    "no_code_images_cut = no_code_images[:2000]"
   ]
  },
  {
   "cell_type": "code",
   "execution_count": 53,
   "metadata": {},
   "outputs": [
    {
     "data": {
      "text/plain": [
       "2000"
      ]
     },
     "execution_count": 53,
     "metadata": {},
     "output_type": "execute_result"
    }
   ],
   "source": [
    "len(no_code_images_cut)"
   ]
  },
  {
   "cell_type": "code",
   "execution_count": 50,
   "metadata": {},
   "outputs": [],
   "source": [
    "code_images = list(code_images_path.glob(\"**/*.png\"))"
   ]
  },
  {
   "cell_type": "code",
   "execution_count": 51,
   "metadata": {},
   "outputs": [
    {
     "data": {
      "text/plain": [
       "1944"
      ]
     },
     "execution_count": 51,
     "metadata": {},
     "output_type": "execute_result"
    }
   ],
   "source": [
    "len(code_images)"
   ]
  },
  {
   "cell_type": "code",
   "execution_count": null,
   "metadata": {},
   "outputs": [],
   "source": []
  },
  {
   "cell_type": "code",
   "execution_count": 54,
   "metadata": {},
   "outputs": [],
   "source": [
    "code_train, code_val = train_test_split(\n",
    "    code_images, \n",
    "    train_size=0.8, \n",
    "    random_state=42\n",
    ")"
   ]
  },
  {
   "cell_type": "code",
   "execution_count": 55,
   "metadata": {},
   "outputs": [],
   "source": [
    "no_code_train, no_code_val = train_test_split(\n",
    "    no_code_images, \n",
    "    train_size=0.8, \n",
    "    random_state=42\n",
    ")"
   ]
  },
  {
   "cell_type": "code",
   "execution_count": 58,
   "metadata": {},
   "outputs": [],
   "source": [
    "base_dir = Path(\"/home/bartek/Kod/PD/praca_dyplomowa/dane/resnet_dane/ready\")"
   ]
  },
  {
   "cell_type": "code",
   "execution_count": 59,
   "metadata": {},
   "outputs": [],
   "source": [
    "for img_path in code_train:\n",
    "    shutil.copy2(img_path, base_dir / 'train' / 'code' / img_path.name)\n",
    "\n",
    "for img_path in code_val:\n",
    "    shutil.copy2(img_path, base_dir / 'val' / 'code' / img_path.name)\n",
    "\n",
    "for img_path in no_code_train:\n",
    "    shutil.copy2(img_path, base_dir / 'train' / 'no_code' / img_path.name)\n",
    "\n",
    "for img_path in no_code_val:\n",
    "    shutil.copy2(img_path, base_dir / 'val' / 'no_code' / img_path.name)"
   ]
  },
  {
   "cell_type": "code",
   "execution_count": null,
   "metadata": {},
   "outputs": [],
   "source": []
  }
 ],
 "metadata": {
  "kernelspec": {
   "display_name": "pd_env",
   "language": "python",
   "name": "python3"
  },
  "language_info": {
   "codemirror_mode": {
    "name": "ipython",
    "version": 3
   },
   "file_extension": ".py",
   "mimetype": "text/x-python",
   "name": "python",
   "nbconvert_exporter": "python",
   "pygments_lexer": "ipython3",
   "version": "3.12.3"
  }
 },
 "nbformat": 4,
 "nbformat_minor": 2
}
