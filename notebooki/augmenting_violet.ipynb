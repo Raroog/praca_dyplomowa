{
 "cells": [
  {
   "cell_type": "code",
   "execution_count": 7,
   "metadata": {},
   "outputs": [],
   "source": [
    "import numpy as np\n",
    "import matplotlib.pyplot as plt\n",
    "from PIL import Image\n",
    "import os\n",
    "from tqdm.notebook import tqdm\n",
    "from pathlib import Path"
   ]
  },
  {
   "cell_type": "code",
   "execution_count": 2,
   "metadata": {},
   "outputs": [],
   "source": [
    "# Define the medium violet color\n",
    "MEDIUM_VIOLET = np.array([138, 43, 226])  # Medium violet / BlueViolet"
   ]
  },
  {
   "cell_type": "code",
   "execution_count": 3,
   "metadata": {},
   "outputs": [],
   "source": [
    "def augment_with_violet(image):\n",
    "    \"\"\"\n",
    "    Core function to augment a code screenshot with medium violet background.\n",
    "    \n",
    "    Args:\n",
    "        image: PIL Image object\n",
    "        \n",
    "    Returns:\n",
    "        PIL Image with violet background\n",
    "    \"\"\"\n",
    "    # Medium violet color\n",
    "    MEDIUM_VIOLET = np.array([75, 0, 130])\n",
    "    \n",
    "    # Ensure we're working with RGB\n",
    "    if image.mode == 'RGBA':\n",
    "        # Handle images with transparency\n",
    "        image = image.convert('RGB')\n",
    "    elif image.mode != 'RGB':\n",
    "        # Convert any other format (like grayscale) to RGB\n",
    "        image = image.convert('RGB')\n",
    "    \n",
    "    # Convert to numpy array\n",
    "    img_array = np.array(image).copy()\n",
    "    \n",
    "    # Find most common color (background)\n",
    "    pixels = img_array.reshape(-1, 3)\n",
    "    unique_colors, counts = np.unique(pixels, axis=0, return_counts=True)\n",
    "    background_color = unique_colors[np.argmax(counts)]\n",
    "    \n",
    "    # Replace background with violet\n",
    "    background_mask = np.all(img_array == background_color.reshape(1, 1, 3), axis=2)\n",
    "    img_array[background_mask] = MEDIUM_VIOLET\n",
    "    \n",
    "    # Return augmented image\n",
    "    return Image.fromarray(img_array)"
   ]
  },
  {
   "cell_type": "code",
   "execution_count": 14,
   "metadata": {},
   "outputs": [],
   "source": [
    "train_code = Path(\"/home/bartek/Kod/PD/praca_dyplomowa/dane/resnet_dane/ready/train/code\")\n",
    "val_code = Path(\"/home/bartek/Kod/PD/praca_dyplomowa/dane/resnet_dane/ready/val/code\")"
   ]
  },
  {
   "cell_type": "code",
   "execution_count": 15,
   "metadata": {},
   "outputs": [],
   "source": [
    "tc_paths = list(train_code.glob(\"*\"))\n",
    "vc_paths = list(val_code.glob(\"*\"))"
   ]
  },
  {
   "cell_type": "code",
   "execution_count": 16,
   "metadata": {},
   "outputs": [],
   "source": [
    "all_paths = tc_paths + vc_paths"
   ]
  },
  {
   "cell_type": "code",
   "execution_count": 19,
   "metadata": {},
   "outputs": [],
   "source": [
    "violet_path = Path(\"/home/bartek/Kod/PD/praca_dyplomowa/dane/resnet_dane/violet\")"
   ]
  },
  {
   "cell_type": "code",
   "execution_count": 20,
   "metadata": {},
   "outputs": [
    {
     "ename": "KeyboardInterrupt",
     "evalue": "",
     "output_type": "error",
     "traceback": [
      "\u001b[0;31m---------------------------------------------------------------------------\u001b[0m",
      "\u001b[0;31mKeyboardInterrupt\u001b[0m                         Traceback (most recent call last)",
      "Cell \u001b[0;32mIn[20], line 3\u001b[0m\n\u001b[1;32m      1\u001b[0m \u001b[38;5;28;01mfor\u001b[39;00m path \u001b[38;5;129;01min\u001b[39;00m all_paths:\n\u001b[1;32m      2\u001b[0m     img \u001b[38;5;241m=\u001b[39m Image\u001b[38;5;241m.\u001b[39mopen(path)\n\u001b[0;32m----> 3\u001b[0m     aug_img \u001b[38;5;241m=\u001b[39m \u001b[43maugment_with_violet\u001b[49m\u001b[43m(\u001b[49m\u001b[43mimg\u001b[49m\u001b[43m)\u001b[49m\n\u001b[1;32m      4\u001b[0m     aug_img_path \u001b[38;5;241m=\u001b[39m violet_path \u001b[38;5;241m/\u001b[39m path\u001b[38;5;241m.\u001b[39mname\n\u001b[1;32m      5\u001b[0m     aug_img\u001b[38;5;241m.\u001b[39msave(aug_img_path)\n",
      "Cell \u001b[0;32mIn[3], line 27\u001b[0m, in \u001b[0;36maugment_with_violet\u001b[0;34m(image)\u001b[0m\n\u001b[1;32m     25\u001b[0m \u001b[38;5;66;03m# Find most common color (background)\u001b[39;00m\n\u001b[1;32m     26\u001b[0m pixels \u001b[38;5;241m=\u001b[39m img_array\u001b[38;5;241m.\u001b[39mreshape(\u001b[38;5;241m-\u001b[39m\u001b[38;5;241m1\u001b[39m, \u001b[38;5;241m3\u001b[39m)\n\u001b[0;32m---> 27\u001b[0m unique_colors, counts \u001b[38;5;241m=\u001b[39m \u001b[43mnp\u001b[49m\u001b[38;5;241;43m.\u001b[39;49m\u001b[43munique\u001b[49m\u001b[43m(\u001b[49m\u001b[43mpixels\u001b[49m\u001b[43m,\u001b[49m\u001b[43m \u001b[49m\u001b[43maxis\u001b[49m\u001b[38;5;241;43m=\u001b[39;49m\u001b[38;5;241;43m0\u001b[39;49m\u001b[43m,\u001b[49m\u001b[43m \u001b[49m\u001b[43mreturn_counts\u001b[49m\u001b[38;5;241;43m=\u001b[39;49m\u001b[38;5;28;43;01mTrue\u001b[39;49;00m\u001b[43m)\u001b[49m\n\u001b[1;32m     28\u001b[0m background_color \u001b[38;5;241m=\u001b[39m unique_colors[np\u001b[38;5;241m.\u001b[39margmax(counts)]\n\u001b[1;32m     30\u001b[0m \u001b[38;5;66;03m# Replace background with violet\u001b[39;00m\n",
      "File \u001b[0;32m~/Kod/PD/pd_env/lib/python3.12/site-packages/numpy/lib/arraysetops.py:317\u001b[0m, in \u001b[0;36munique\u001b[0;34m(ar, return_index, return_inverse, return_counts, axis, equal_nan)\u001b[0m\n\u001b[1;32m    314\u001b[0m     uniq \u001b[38;5;241m=\u001b[39m np\u001b[38;5;241m.\u001b[39mmoveaxis(uniq, \u001b[38;5;241m0\u001b[39m, axis)\n\u001b[1;32m    315\u001b[0m     \u001b[38;5;28;01mreturn\u001b[39;00m uniq\n\u001b[0;32m--> 317\u001b[0m output \u001b[38;5;241m=\u001b[39m \u001b[43m_unique1d\u001b[49m\u001b[43m(\u001b[49m\u001b[43mconsolidated\u001b[49m\u001b[43m,\u001b[49m\u001b[43m \u001b[49m\u001b[43mreturn_index\u001b[49m\u001b[43m,\u001b[49m\n\u001b[1;32m    318\u001b[0m \u001b[43m                   \u001b[49m\u001b[43mreturn_inverse\u001b[49m\u001b[43m,\u001b[49m\u001b[43m \u001b[49m\u001b[43mreturn_counts\u001b[49m\u001b[43m,\u001b[49m\u001b[43m \u001b[49m\u001b[43mequal_nan\u001b[49m\u001b[38;5;241;43m=\u001b[39;49m\u001b[43mequal_nan\u001b[49m\u001b[43m)\u001b[49m\n\u001b[1;32m    319\u001b[0m output \u001b[38;5;241m=\u001b[39m (reshape_uniq(output[\u001b[38;5;241m0\u001b[39m]),) \u001b[38;5;241m+\u001b[39m output[\u001b[38;5;241m1\u001b[39m:]\n\u001b[1;32m    320\u001b[0m \u001b[38;5;28;01mreturn\u001b[39;00m _unpack_tuple(output)\n",
      "File \u001b[0;32m~/Kod/PD/pd_env/lib/python3.12/site-packages/numpy/lib/arraysetops.py:336\u001b[0m, in \u001b[0;36m_unique1d\u001b[0;34m(ar, return_index, return_inverse, return_counts, equal_nan)\u001b[0m\n\u001b[1;32m    334\u001b[0m     aux \u001b[38;5;241m=\u001b[39m ar[perm]\n\u001b[1;32m    335\u001b[0m \u001b[38;5;28;01melse\u001b[39;00m:\n\u001b[0;32m--> 336\u001b[0m     \u001b[43mar\u001b[49m\u001b[38;5;241;43m.\u001b[39;49m\u001b[43msort\u001b[49m\u001b[43m(\u001b[49m\u001b[43m)\u001b[49m\n\u001b[1;32m    337\u001b[0m     aux \u001b[38;5;241m=\u001b[39m ar\n\u001b[1;32m    338\u001b[0m mask \u001b[38;5;241m=\u001b[39m np\u001b[38;5;241m.\u001b[39mempty(aux\u001b[38;5;241m.\u001b[39mshape, dtype\u001b[38;5;241m=\u001b[39mnp\u001b[38;5;241m.\u001b[39mbool_)\n",
      "\u001b[0;31mKeyboardInterrupt\u001b[0m: "
     ]
    }
   ],
   "source": [
    "for path in all_paths:\n",
    "    img = Image.open(path)\n",
    "    aug_img = augment_with_violet(img)\n",
    "    aug_img_path = violet_path / path.name\n",
    "    aug_img.save(aug_img_path)"
   ]
  },
  {
   "cell_type": "code",
   "execution_count": 28,
   "metadata": {},
   "outputs": [],
   "source": [
    "exp = Path(\"/home/bartek/Kod/PD/praca_dyplomowa/dane/resnet_dane/violet/C_AlexAltea~orbital_src~orbital~hardware~liverpool~acp~acp.h_bw.png\")"
   ]
  },
  {
   "cell_type": "code",
   "execution_count": 30,
   "metadata": {},
   "outputs": [
    {
     "data": {
      "text/plain": [
       "PosixPath('/home/bartek/Kod/PD/praca_dyplomowa/dane/resnet_dane/violet/violet_C_AlexAltea~orbital_src~orbital~hardware~liverpool~acp~acp.h_bw.png')"
      ]
     },
     "execution_count": 30,
     "metadata": {},
     "output_type": "execute_result"
    }
   ],
   "source": [
    "exp.rename(Path(f\"{violet_path}/violet_{str(exp.name)}\"))"
   ]
  },
  {
   "cell_type": "code",
   "execution_count": 31,
   "metadata": {},
   "outputs": [],
   "source": [
    "for path in list(violet_path.glob(\"*\")):\n",
    "    path.rename(Path(f\"{violet_path}/violet_{str(path.name)}\"))"
   ]
  },
  {
   "cell_type": "code",
   "execution_count": null,
   "metadata": {},
   "outputs": [],
   "source": []
  }
 ],
 "metadata": {
  "kernelspec": {
   "display_name": "pd_env",
   "language": "python",
   "name": "python3"
  },
  "language_info": {
   "codemirror_mode": {
    "name": "ipython",
    "version": 3
   },
   "file_extension": ".py",
   "mimetype": "text/x-python",
   "name": "python",
   "nbconvert_exporter": "python",
   "pygments_lexer": "ipython3",
   "version": "3.12.3"
  }
 },
 "nbformat": 4,
 "nbformat_minor": 2
}
