{
 "cells": [
  {
   "cell_type": "code",
   "execution_count": null,
   "metadata": {},
   "outputs": [],
   "source": [
    "import numpy as np\n",
    "import matplotlib.pyplot as plt\n",
    "from PIL import Image\n",
    "import os\n",
    "from tqdm.notebook import tqdm\n",
    "from pathlib import Path"
   ]
  },
  {
   "cell_type": "code",
   "execution_count": null,
   "metadata": {},
   "outputs": [],
   "source": [
    "# Define the medium violet color\n",
    "MEDIUM_VIOLET = np.array([138, 43, 226])  # Medium violet / BlueViolet"
   ]
  },
  {
   "cell_type": "code",
   "execution_count": null,
   "metadata": {},
   "outputs": [],
   "source": [
    "def augment_with_violet(image):\n",
    "\n",
    "    # Medium violet color\n",
    "    MEDIUM_VIOLET = np.array([75, 0, 130])\n",
    "    \n",
    "    # Ensure we're working with RGB\n",
    "    if image.mode == 'RGBA':\n",
    "        # Handle images with transparency\n",
    "        image = image.convert('RGB')\n",
    "    elif image.mode != 'RGB':\n",
    "        # Convert any other format (like grayscale) to RGB\n",
    "        image = image.convert('RGB')\n",
    "    \n",
    "    # Convert to numpy array\n",
    "    img_array = np.array(image).copy()\n",
    "    \n",
    "    # Find most common color (background)\n",
    "    pixels = img_array.reshape(-1, 3)\n",
    "    unique_colors, counts = np.unique(pixels, axis=0, return_counts=True)\n",
    "    background_color = unique_colors[np.argmax(counts)]\n",
    "    \n",
    "    # Replace background with violet\n",
    "    background_mask = np.all(img_array == background_color.reshape(1, 1, 3), axis=2)\n",
    "    img_array[background_mask] = MEDIUM_VIOLET\n",
    "    \n",
    "    # Return augmented image\n",
    "    return Image.fromarray(img_array)"
   ]
  },
  {
   "cell_type": "code",
   "execution_count": null,
   "metadata": {},
   "outputs": [],
   "source": [
    "train_code = Path(\"/home/bartek/Kod/PD/praca_dyplomowa/dane/resnet_dane/ready/train/code\")\n",
    "val_code = Path(\"/home/bartek/Kod/PD/praca_dyplomowa/dane/resnet_dane/ready/val/code\")"
   ]
  },
  {
   "cell_type": "code",
   "execution_count": null,
   "metadata": {},
   "outputs": [],
   "source": [
    "tc_paths = list(train_code.glob(\"*\"))\n",
    "vc_paths = list(val_code.glob(\"*\"))"
   ]
  },
  {
   "cell_type": "code",
   "execution_count": null,
   "metadata": {},
   "outputs": [],
   "source": [
    "all_paths = tc_paths + vc_paths"
   ]
  },
  {
   "cell_type": "code",
   "execution_count": null,
   "metadata": {},
   "outputs": [],
   "source": [
    "violet_path = Path(\"/home/bartek/Kod/PD/praca_dyplomowa/dane/resnet_dane/violet\")"
   ]
  },
  {
   "cell_type": "code",
   "execution_count": null,
   "metadata": {},
   "outputs": [],
   "source": [
    "for path in all_paths:\n",
    "    img = Image.open(path)\n",
    "    aug_img = augment_with_violet(img)\n",
    "    aug_img_path = violet_path / path.name\n",
    "    aug_img.save(aug_img_path)"
   ]
  },
  {
   "cell_type": "code",
   "execution_count": null,
   "metadata": {},
   "outputs": [],
   "source": [
    "exp = Path(\"/home/bartek/Kod/PD/praca_dyplomowa/dane/resnet_dane/violet/C_AlexAltea~orbital_src~orbital~hardware~liverpool~acp~acp.h_bw.png\")"
   ]
  },
  {
   "cell_type": "code",
   "execution_count": null,
   "metadata": {},
   "outputs": [],
   "source": [
    "exp.rename(Path(f\"{violet_path}/violet_{str(exp.name)}\"))"
   ]
  },
  {
   "cell_type": "code",
   "execution_count": null,
   "metadata": {},
   "outputs": [],
   "source": [
    "for path in list(violet_path.glob(\"*\")):\n",
    "    path.rename(Path(f\"{violet_path}/violet_{str(path.name)}\"))"
   ]
  },
  {
   "cell_type": "code",
   "execution_count": null,
   "metadata": {},
   "outputs": [],
   "source": []
  }
 ],
 "metadata": {
  "kernelspec": {
   "display_name": "pd_env",
   "language": "python",
   "name": "python3"
  },
  "language_info": {
   "codemirror_mode": {
    "name": "ipython",
    "version": 3
   },
   "file_extension": ".py",
   "mimetype": "text/x-python",
   "name": "python",
   "nbconvert_exporter": "python",
   "pygments_lexer": "ipython3",
   "version": "3.12.3"
  }
 },
 "nbformat": 4,
 "nbformat_minor": 2
}
