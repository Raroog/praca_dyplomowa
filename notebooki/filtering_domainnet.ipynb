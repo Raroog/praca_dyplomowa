{
 "cells": [
  {
   "cell_type": "code",
   "execution_count": 3,
   "metadata": {},
   "outputs": [],
   "source": [
    "from pathlib import Path \n",
    "import shutil"
   ]
  },
  {
   "cell_type": "code",
   "execution_count": 2,
   "metadata": {},
   "outputs": [],
   "source": [
    "dir_names = [\"computer\", \"keyboard\", \"laptop\", \"spreadsheet\"]"
   ]
  },
  {
   "cell_type": "code",
   "execution_count": 5,
   "metadata": {},
   "outputs": [],
   "source": [
    "dir_path = Path(\"/home/bartek/Downloads/domainnet/\")"
   ]
  },
  {
   "cell_type": "code",
   "execution_count": 20,
   "metadata": {},
   "outputs": [],
   "source": [
    "final_paths = [path for path in dir_path.glob(\"**\") if path.name in dir_names]"
   ]
  },
  {
   "cell_type": "code",
   "execution_count": 21,
   "metadata": {},
   "outputs": [
    {
     "data": {
      "text/plain": [
       "[PosixPath('/home/bartek/Downloads/domainnet/DomainNet/clipart/computer'),\n",
       " PosixPath('/home/bartek/Downloads/domainnet/DomainNet/clipart/spreadsheet'),\n",
       " PosixPath('/home/bartek/Downloads/domainnet/DomainNet/clipart/laptop'),\n",
       " PosixPath('/home/bartek/Downloads/domainnet/DomainNet/clipart/keyboard'),\n",
       " PosixPath('/home/bartek/Downloads/domainnet/DomainNet/painting/computer'),\n",
       " PosixPath('/home/bartek/Downloads/domainnet/DomainNet/painting/spreadsheet'),\n",
       " PosixPath('/home/bartek/Downloads/domainnet/DomainNet/painting/laptop'),\n",
       " PosixPath('/home/bartek/Downloads/domainnet/DomainNet/painting/keyboard'),\n",
       " PosixPath('/home/bartek/Downloads/domainnet/DomainNet/real/computer'),\n",
       " PosixPath('/home/bartek/Downloads/domainnet/DomainNet/real/spreadsheet'),\n",
       " PosixPath('/home/bartek/Downloads/domainnet/DomainNet/real/laptop'),\n",
       " PosixPath('/home/bartek/Downloads/domainnet/DomainNet/real/keyboard'),\n",
       " PosixPath('/home/bartek/Downloads/domainnet/DomainNet/sketch/computer'),\n",
       " PosixPath('/home/bartek/Downloads/domainnet/DomainNet/sketch/spreadsheet'),\n",
       " PosixPath('/home/bartek/Downloads/domainnet/DomainNet/sketch/laptop'),\n",
       " PosixPath('/home/bartek/Downloads/domainnet/DomainNet/sketch/keyboard')]"
      ]
     },
     "execution_count": 21,
     "metadata": {},
     "output_type": "execute_result"
    }
   ],
   "source": [
    "final_paths"
   ]
  },
  {
   "cell_type": "code",
   "execution_count": 25,
   "metadata": {},
   "outputs": [],
   "source": [
    "new_dir = Path(\"/home/bartek/Kod/PD/praca_dyplomowa/dane/resnet_dane/raw/domainnet\")"
   ]
  },
  {
   "cell_type": "code",
   "execution_count": 27,
   "metadata": {},
   "outputs": [],
   "source": [
    "for path in final_paths:\n",
    "    final_dir = new_dir / path.parts[-2]\n",
    "    shutil.move(path, final_dir)\n"
   ]
  },
  {
   "cell_type": "code",
   "execution_count": null,
   "metadata": {},
   "outputs": [],
   "source": []
  }
 ],
 "metadata": {
  "kernelspec": {
   "display_name": "pd_env",
   "language": "python",
   "name": "python3"
  },
  "language_info": {
   "codemirror_mode": {
    "name": "ipython",
    "version": 3
   },
   "file_extension": ".py",
   "mimetype": "text/x-python",
   "name": "python",
   "nbconvert_exporter": "python",
   "pygments_lexer": "ipython3",
   "version": "3.12.3"
  }
 },
 "nbformat": 4,
 "nbformat_minor": 2
}
