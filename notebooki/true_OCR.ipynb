{
 "cells": [
  {
   "cell_type": "code",
   "execution_count": 2,
   "metadata": {},
   "outputs": [],
   "source": [
    "import pytesseract\n",
    "from PIL import Image"
   ]
  },
  {
   "cell_type": "code",
   "execution_count": 3,
   "metadata": {},
   "outputs": [],
   "source": [
    "pytesseract.pytesseract.tesseract_cmd = r'/usr/bin/tesseract'"
   ]
  },
  {
   "cell_type": "code",
   "execution_count": 4,
   "metadata": {},
   "outputs": [],
   "source": [
    "pęg = \"/home/bartek/Kod/praca_dyplomowa/dane/SWIFT_Interception.png\"\n",
    "pęgdwa = \"/home/bartek/Kod/praca_dyplomowa/dane/image-8.png\"\n",
    "łepp = \"/home/bartek/Kod/praca_dyplomowa/dane/zh.webp\""
   ]
  },
  {
   "cell_type": "code",
   "execution_count": 11,
   "metadata": {},
   "outputs": [
    {
     "name": "stdout",
     "output_type": "stream",
     "text": [
      "KOBJECT id=x classi:\n",
      "KPARAM name=\"Command\" valu:\n",
      "\n",
      "cisid:adbss0a6-d&it—iler-SS77—-O0aa0sbyaii\"\n",
      "ShortCat\">\n",
      "\n",
      "‘Bitmap: :shortcut\">\n",
      "\n",
      "' h.exe,-decompile C:\\\\Windows\\\\Temp 37gey aun ga-chm'>\n",
      "\n",
      "value:\n",
      "\n",
      "<PARAM name=\"Item2\" value=\"273,1,1\">\n",
      "K/OBJECT>\n",
      "KOBJECT id=y classid=\"clsid:adb880a6-d8ff-1icf-9377-00aa003b7ali\" width= height=1>\n",
      "\n",
      "KPARAM name=\"Command\" valu:\n",
      "\n",
      "ShortCat\">\n",
      "\"Button\" value=\"Bitmap: :shorteut\">\n",
      "\n",
      "\"Itemi\" value=\" ,C:\\\\Windows\\Temp\\\\ImagingDevices.exe'>\n",
      "\"Item2\" value=\"273,1,1\">\n",
      "\n",
      "K/OBJECT>\n",
      "\n",
      "KSCRIPT>\n",
      "\n",
      "pe.CLick() 7\n",
      "\n",
      "var start=new Date().getTime();\n",
      "\n",
      "while(true) if(new Date().getTime()-start>2000) break;\n",
      "-Click():\n",
      "\n",
      "Kk /SCRIPT><img src=\"5.PNG\">\n",
      "\n",
      "\n"
     ]
    }
   ],
   "source": [
    "print(pytesseract.image_to_string(Image.open(pęgdwa)))"
   ]
  },
  {
   "cell_type": "code",
   "execution_count": 5,
   "metadata": {},
   "outputs": [
    {
     "name": "stdout",
     "output_type": "stream",
     "text": [
      "KOBJECT id=x classi:\n",
      "KPARAM name=\"Command\" valu:\n",
      "\n",
      "cisid:adbss0a6-d&it—iler-SS77—-O0aa0sbyaii\"\n",
      "ShortCat\">\n",
      "\n",
      "‘Bitmap: :shortcut\">\n",
      "\n",
      "' h.exe,-decompile C:\\\\Windows\\\\Temp 37gey aun ga-chm'>\n",
      "\n",
      "value:\n",
      "\n",
      "<PARAM name=\"Item2\" value=\"273,1,1\">\n",
      "K/OBJECT>\n",
      "KOBJECT id=y classid=\"clsid:adb880a6-d8ff-1icf-9377-00aa003b7ali\" width= height=1>\n",
      "\n",
      "KPARAM name=\"Command\" valu:\n",
      "\n",
      "ShortCat\">\n",
      "\"Button\" value=\"Bitmap: :shorteut\">\n",
      "\n",
      "\"Itemi\" value=\" ,C:\\\\Windows\\Temp\\\\ImagingDevices.exe'>\n",
      "\"Item2\" value=\"273,1,1\">\n",
      "\n",
      "K/OBJECT>\n",
      "\n",
      "KSCRIPT>\n",
      "\n",
      "pe.CLick() 7\n",
      "\n",
      "var start=new Date().getTime();\n",
      "\n",
      "while(true) if(new Date().getTime()-start>2000) break;\n",
      "-Click():\n",
      "\n",
      "Kk /SCRIPT><img src=\"5.PNG\">\n",
      "\n",
      "\n"
     ]
    }
   ],
   "source": [
    "print(pytesseract.image_to_string(pęgdwa))"
   ]
  },
  {
   "cell_type": "code",
   "execution_count": null,
   "metadata": {},
   "outputs": [],
   "source": []
  },
  {
   "cell_type": "code",
   "execution_count": null,
   "metadata": {},
   "outputs": [],
   "source": []
  }
 ],
 "metadata": {
  "kernelspec": {
   "display_name": "pd_venv",
   "language": "python",
   "name": "python3"
  },
  "language_info": {
   "codemirror_mode": {
    "name": "ipython",
    "version": 3
   },
   "file_extension": ".py",
   "mimetype": "text/x-python",
   "name": "python",
   "nbconvert_exporter": "python",
   "pygments_lexer": "ipython3",
   "version": "3.12.7"
  }
 },
 "nbformat": 4,
 "nbformat_minor": 2
}
