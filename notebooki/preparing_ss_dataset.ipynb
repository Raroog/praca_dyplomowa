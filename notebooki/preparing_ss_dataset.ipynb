{
 "cells": [
  {
   "cell_type": "code",
   "execution_count": 1,
   "metadata": {},
   "outputs": [],
   "source": [
    "from pathlib import Path\n",
    "import shutil\n",
    "from sklearn.model_selection import train_test_split"
   ]
  },
  {
   "cell_type": "code",
   "execution_count": 2,
   "metadata": {},
   "outputs": [],
   "source": [
    "data_path1 = Path(\"/home/bartek/Kod/PD/praca_dyplomowa/dane/resnet_dane/raw/popular-website-screenshots-and-metadata\")"
   ]
  },
  {
   "cell_type": "code",
   "execution_count": 3,
   "metadata": {},
   "outputs": [],
   "source": [
    "data_path2 = Path(\"/home/bartek/Kod/PD/praca_dyplomowa/dane/resnet_dane/raw/top-500-websites-first-view\")"
   ]
  },
  {
   "cell_type": "code",
   "execution_count": 4,
   "metadata": {},
   "outputs": [],
   "source": [
    "data_path3 = Path(\"/home/bartek/Kod/PD/praca_dyplomowa/dane/resnet_dane/raw/webscreenshots\")"
   ]
  },
  {
   "cell_type": "code",
   "execution_count": 5,
   "metadata": {},
   "outputs": [],
   "source": [
    "nocode_images1 = list(data_path1.glob(\"**/*.png\"))"
   ]
  },
  {
   "cell_type": "code",
   "execution_count": null,
   "metadata": {},
   "outputs": [],
   "source": [
    "nocode_images2 = list(data_path2.glob(\"*.png\"))"
   ]
  },
  {
   "cell_type": "code",
   "execution_count": 10,
   "metadata": {},
   "outputs": [],
   "source": [
    "nocode_images3 = list(data_path3.glob(\"**/**/*.jpg\"))"
   ]
  },
  {
   "cell_type": "code",
   "execution_count": null,
   "metadata": {},
   "outputs": [],
   "source": [
    "nocode_images1.extend(nocode_images2)"
   ]
  },
  {
   "cell_type": "code",
   "execution_count": 16,
   "metadata": {},
   "outputs": [],
   "source": [
    "nocode_images1.extend(nocode_images3)"
   ]
  },
  {
   "cell_type": "code",
   "execution_count": 21,
   "metadata": {},
   "outputs": [
    {
     "data": {
      "text/plain": [
       "('sport', 'www.kfum-tennis.dk.jpg')"
      ]
     },
     "execution_count": 21,
     "metadata": {},
     "output_type": "execute_result"
    }
   ],
   "source": [
    "nocode_images1[-1].parts[-2:]"
   ]
  },
  {
   "cell_type": "code",
   "execution_count": 22,
   "metadata": {},
   "outputs": [
    {
     "data": {
      "text/plain": [
       "21517"
      ]
     },
     "execution_count": 22,
     "metadata": {},
     "output_type": "execute_result"
    }
   ],
   "source": [
    "len(nocode_images1)"
   ]
  },
  {
   "cell_type": "code",
   "execution_count": 18,
   "metadata": {},
   "outputs": [],
   "source": [
    "code_train, code_val = train_test_split(\n",
    "    nocode_images1, \n",
    "    train_size=0.8, \n",
    "    random_state=42\n",
    ")"
   ]
  },
  {
   "cell_type": "code",
   "execution_count": 19,
   "metadata": {},
   "outputs": [],
   "source": [
    "base_dir = Path(\"/home/bartek/Kod/PD/praca_dyplomowa/dane/resnet_dane/ready\")"
   ]
  },
  {
   "cell_type": "code",
   "execution_count": 23,
   "metadata": {},
   "outputs": [],
   "source": [
    "for img_path in code_train:\n",
    "    if img_path.name == \"screenshot.png\":\n",
    "        shutil.copy2(img_path, base_dir / 'train' / 'no_code' / (\"_\").join(img_path.parts[-2:]))\n",
    "    else:\n",
    "        shutil.copy2(img_path, base_dir / 'train' / 'no_code' / img_path.name)\n",
    "\n",
    "for img_path in code_val:\n",
    "    if img_path.name == \"screenshot.png\":\n",
    "        shutil.copy2(img_path, base_dir / 'val' / 'no_code' / (\"_\").join(img_path.parts[-2:]))\n",
    "    else:\n",
    "        shutil.copy2(img_path, base_dir / 'val' / 'no_code' / img_path.name)"
   ]
  },
  {
   "cell_type": "code",
   "execution_count": null,
   "metadata": {},
   "outputs": [],
   "source": []
  }
 ],
 "metadata": {
  "kernelspec": {
   "display_name": "pd_env",
   "language": "python",
   "name": "python3"
  },
  "language_info": {
   "codemirror_mode": {
    "name": "ipython",
    "version": 3
   },
   "file_extension": ".py",
   "mimetype": "text/x-python",
   "name": "python",
   "nbconvert_exporter": "python",
   "pygments_lexer": "ipython3",
   "version": "3.12.3"
  }
 },
 "nbformat": 4,
 "nbformat_minor": 2
}
